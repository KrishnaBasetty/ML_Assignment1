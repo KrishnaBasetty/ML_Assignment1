{
 "cells": [
  {
   "cell_type": "code",
   "execution_count": 1,
   "id": "754b0013",
   "metadata": {},
   "outputs": [
    {
     "name": "stdout",
     "output_type": "stream",
     "text": [
      "[19, 22, 19, 24, 20, 25, 26, 24, 25, 24]\n",
      "sorted array: [19, 19, 20, 22, 24, 24, 24, 25, 25, 26]\n",
      "maximum value: 26\n",
      "minimum value: 19\n",
      "after adding new elements into the array: [19, 19, 19, 20, 22, 24, 24, 24, 25, 25, 26, 26]\n",
      "number of elements in an array: 12\n",
      "median of the array: 24.0\n",
      "average of elements in an array: 22.75\n",
      "range of the array: 7\n"
     ]
    }
   ],
   "source": [
    "ages=[19,22,19,24,20,25,26,24,25,24]\n",
    "print(ages)\n",
    "ages.sort()\n",
    "\n",
    "print(\"sorted array:\" ,ages)\n",
    "\n",
    "maximum = max(ages)\n",
    "\n",
    "print(\"maximum value:\", maximum)\n",
    "\n",
    "minimum = min(ages)\n",
    "\n",
    "\n",
    "print(\"minimum value:\",minimum)\n",
    "\n",
    "ages.append(maximum)\n",
    "\n",
    "ages.append(minimum)\n",
    "\n",
    "ages.sort()\n",
    "\n",
    "print(\"after adding new elements into the array:\", ages)\n",
    "\n",
    "size = len(ages)\n",
    "\n",
    "print(\"number of elements in an array:\",size)\n",
    "\n",
    "\n",
    "import statistics\n",
    "\n",
    "print(\"median of the array:\",statistics.median(ages))\n",
    "\n",
    "total = sum(ages)\n",
    "\n",
    "average = total/size\n",
    "\n",
    "print(\"average of elements in an array:\" , average)\n",
    "\n",
    "range = maximum - minimum\n",
    "\n",
    "print(\"range of the array:\" , range)"
   ]
  },
  {
   "cell_type": "code",
   "execution_count": 3,
   "id": "7b5760d4",
   "metadata": {},
   "outputs": [
    {
     "name": "stdout",
     "output_type": "stream",
     "text": [
      "empty dictionary: {}\n",
      "dictionary with key value pairs: {'name': 'twinlkle', 'color': 'brown', 'breed': 'puppy', 'legs': '4', 'age': '2yrs'}\n",
      "student disctionary: {'first_name': 'krishna', 'last_name': 'basetty', 'gender': 'male', 'age': '24', 'marital status': 'single', 'skills': 'programming', 'country': 'USA', 'city': 'kansas city', 'address': 'overland park'}\n",
      "lenghth of the dictionary: 9\n",
      "values of particular key: programming\n",
      "dict_keys(['name', 'color', 'breed', 'legs', 'age'])\n",
      "dict_values(['krishna', 'basetty', 'male', '24', 'single', 'programming', 'USA', 'kansas city', 'overland park'])\n"
     ]
    }
   ],
   "source": [
    "dog=dict()\n",
    "print(\"empty dictionary:\",dog)\n",
    "dog['name']='twinlkle'\n",
    "dog['color']='brown'\n",
    "dog['breed']='puppy'\n",
    "dog['legs']='4'\n",
    "dog['age']='2yrs'\n",
    "print(\"dictionary with key value pairs:\",dog)\n",
    "student = {'first_name' : 'krishna', 'last_name' : 'basetty', 'gender' : 'male', 'age' : '24', 'marital status' : 'single',\n",
    "'skills' : 'programming', 'country' : 'USA', 'city' : 'kansas city' ,  'address' : 'overland park'}\n",
    "print(\"student disctionary:\" , student)\n",
    "print(\"lenghth of the dictionary:\",len(student))\n",
    "print(\"values of particular key:\", student['skills'])\n",
    "print(dog.keys())\n",
    "print(student.values())\n",
    "\n"
   ]
  },
  {
   "cell_type": "code",
   "execution_count": 4,
   "id": "8123514d",
   "metadata": {},
   "outputs": [
    {
     "name": "stdout",
     "output_type": "stream",
     "text": [
      "('s1', 's2', 's3', 's4')\n",
      "('b1', 'b2', 'b3', 'b4')\n",
      "('s1', 's2', 's3', 's4', 'b1', 'b2', 'b3', 'b4')\n",
      "['s1', 's2', 's3', 's4', 'b1', 'b2', 'b3', 'b4']\n",
      "['s1', 's2', 's3', 's4', 'b1', 'b2', 'b3', 'b4', 'mother', 'father']\n",
      "('s1', 's2', 's3', 's4', 'b1', 'b2', 'b3', 'b4', 'mother', 'father')\n"
     ]
    }
   ],
   "source": [
    "sisters=('s1','s2','s3','s4')\n",
    "brothers=('b1','b2','b3','b4')\n",
    "print(sisters)\n",
    "print(brothers)\n",
    "siblings = sisters + brothers\n",
    "print(siblings)\n",
    "siblings = list(siblings)\n",
    "print(siblings)\n",
    "siblings.append('mother')\n",
    "siblings.append('father')\n",
    "print(siblings)\n",
    "family_members = tuple(siblings)\n",
    "print(family_members)"
   ]
  },
  {
   "cell_type": "code",
   "execution_count": 5,
   "id": "f47a7831",
   "metadata": {
    "scrolled": true
   },
   "outputs": [
    {
     "name": "stdout",
     "output_type": "stream",
     "text": [
      "7\n",
      "{'Apple', 'Google', 'Facebook', 'Microsoft', 'Twitter', 'Amazon', 'IBM', 'Oracle'}\n",
      "{'Google', 'tcs', 'Facebook', 'Oracle', 'wipro', 'Microsoft', 'Apple', 'Amazon', 'Twitter', 'IBM'}\n",
      "{'Google', 'tcs', 'Facebook', 'Oracle', 'wipro', 'Microsoft', 'Apple', 'Twitter', 'IBM'}\n",
      "#remove() method will raise an error if the specified item does not exist, and the discard() method will not.\n",
      "{19, 20, 22, 24, 25, 26, 27, 28}\n",
      "{19, 20, 22, 24, 25, 26}\n",
      "True\n",
      "False\n",
      "{19, 20, 22, 24, 25, 26, 27, 28}\n",
      "{19, 20, 22, 24, 25, 26, 27, 28}\n",
      "set()\n",
      "set()\n",
      "set()\n",
      "{19, 22, 24, 25, 26}\n",
      "5\n",
      "8\n"
     ]
    }
   ],
   "source": [
    "it_companies = {'Facebook', 'Google', 'Microsoft', 'Apple', 'IBM', 'Oracle', 'Amazon'}\n",
    "A = {19, 22, 24, 20, 25, 26}\n",
    "B = {19, 22, 20, 25, 26, 24, 28, 27}\n",
    "age = [22, 19, 24, 25, 26, 24, 25, 24]\n",
    "length=len(it_companies)\n",
    "print(length)\n",
    "it_companies.add('Twitter')\n",
    "print(it_companies)\n",
    "elements=['tcs','wipro']\n",
    "it_companies.update(elements)\n",
    "print(it_companies)\n",
    "it_companies.remove('Amazon')\n",
    "print(it_companies)\n",
    "print(\"#remove() method will raise an error if the specified item does not exist, and the discard() method will not.\")\n",
    "set3=A.union(B)\n",
    "print(set3)\n",
    "print(A.intersection(B))\n",
    "print(A.issubset(B))\n",
    "print(A.isdisjoint(B))\n",
    "A.update(B)\n",
    "print(A)\n",
    "B.update(A)\n",
    "print(B)\n",
    "C=A.symmetric_difference(B)\n",
    "print(C)\n",
    "A.clear()\n",
    "B.clear()\n",
    "print(A)\n",
    "print(B)\n",
    "age_set=set(age)\n",
    "print(age_set)\n",
    "age_length=len(age_set)\n",
    "print(age_length)\n",
    "print(len(age))"
   ]
  },
  {
   "cell_type": "code",
   "execution_count": 6,
   "id": "b0fcf500",
   "metadata": {},
   "outputs": [
    {
     "name": "stdout",
     "output_type": "stream",
     "text": [
      "enter the radius30\n",
      "2826.0\n",
      "188.4\n"
     ]
    }
   ],
   "source": [
    "radius = int(input('enter the radius') )\n",
    "pi = 3.14\n",
    "_area_of_circle = pi * radius ** 2\n",
    "print(_area_of_circle)\n",
    "_circum_of_circle = 2*pi*radius\n",
    "print(_circum_of_circle)\n",
    "\n"
   ]
  },
  {
   "cell_type": "code",
   "execution_count": 9,
   "id": "435ac021",
   "metadata": {},
   "outputs": [
    {
     "name": "stdout",
     "output_type": "stream",
     "text": [
      "10\n"
     ]
    }
   ],
   "source": [
    "str1 = 'I am a teacher and I love to inspire and teach people'\n",
    "words = str1.split(' ')\n",
    "unique_list = []\n",
    "count=0\n",
    "for x in words:\n",
    "    if x not in unique_list:\n",
    "        unique_list.append(x)\n",
    "for x in unique_list:\n",
    "    count=count+1\n",
    "print(count)"
   ]
  },
  {
   "cell_type": "code",
   "execution_count": 12,
   "id": "53aec527",
   "metadata": {},
   "outputs": [
    {
     "name": "stdout",
     "output_type": "stream",
     "text": [
      "\"The area of circle with a radius 10 is 314 meters square\"\n"
     ]
    }
   ],
   "source": [
    "radius = 10\n",
    "pi = 3.14\n",
    "area = pi * radius ** 2\n",
    "formated_string = '\"The area of circle with a radius %d is %.d meters square\"' %(radius, area) \n",
    "print(formated_string)"
   ]
  },
  {
   "cell_type": "code",
   "execution_count": 8,
   "id": "a1fada85",
   "metadata": {},
   "outputs": [
    {
     "name": "stdout",
     "output_type": "stream",
     "text": [
      "Name\tAge\tCountry\tCity\n",
      "Asabeneh 250\tFinland\tHelsinki\n"
     ]
    }
   ],
   "source": [
    "print(\"Name\\tAge\\tCountry\\tCity\\nAsabeneh 250\\tFinland\\tHelsinki\")"
   ]
  },
  {
   "cell_type": "code",
   "execution_count": 11,
   "id": "187a7e23",
   "metadata": {},
   "outputs": [
    {
     "name": "stdout",
     "output_type": "stream",
     "text": [
      "enter weights in lbs140 130 150\n",
      "weights in kgs:  [63.4921, 58.9569, 68.0272]\n"
     ]
    }
   ],
   "source": [
    "W1=[int(num) for num in input(\"enter weights in lbs\").split(\" \")]\n",
    "W_kg=[]\n",
    "for i in W1:\n",
    "    W_kg.append(round(i/2.205,4))\n",
    "print(\"weights in kgs: \",W_kg)\n",
    "    "
   ]
  },
  {
   "cell_type": "code",
   "execution_count": null,
   "id": "d6b80194",
   "metadata": {},
   "outputs": [],
   "source": []
  }
 ],
 "metadata": {
  "kernelspec": {
   "display_name": "Python 3 (ipykernel)",
   "language": "python",
   "name": "python3"
  },
  "language_info": {
   "codemirror_mode": {
    "name": "ipython",
    "version": 3
   },
   "file_extension": ".py",
   "mimetype": "text/x-python",
   "name": "python",
   "nbconvert_exporter": "python",
   "pygments_lexer": "ipython3",
   "version": "3.9.13"
  }
 },
 "nbformat": 4,
 "nbformat_minor": 5
}
